{
 "cells": [
  {
   "cell_type": "markdown",
   "metadata": {},
   "source": [
    "#### See benchmark_tutorial.py for the pure python code (which is just created by \"jupyter nbconvert benchmark_tutorial.ipynb --to python\")"
   ]
  },
  {
   "cell_type": "code",
   "execution_count": 1,
   "metadata": {
    "collapsed": true
   },
   "outputs": [],
   "source": [
    "# import general modules\n",
    "import numpy as np\n",
    "\n",
    "# import the modules in this package \n",
    "import GC_benchmark as GC\n",
    "\n",
    "# block warnings to make this notebook cleaner.\n",
    "import warnings\n",
    "warnings.filterwarnings('ignore')"
   ]
  },
  {
   "cell_type": "code",
   "execution_count": 2,
   "metadata": {
    "collapsed": false
   },
   "outputs": [
    {
     "name": "stdout",
     "output_type": "stream",
     "text": [
      "['CH2O', 'HNO3', 'NIT', 'NO', 'O3']\n",
      "5\n",
      "(72, 46, 72)\n"
     ]
    }
   ],
   "source": [
    "# A simple benchmark example. \n",
    "\n",
    "# the output files from model1 and model2\n",
    "filename1='sample_data/GCHP.wetdep.regrid.20130702.nc4' # GCHP output\n",
    "filename2='sample_data/GEOSCHEM_Diagnostics_Hrly.201307020000.nc' # GC-classic NC diag\n",
    "\n",
    "# create a \"GC_benchmark\" object.      \n",
    "# shortname will be used as the file names of output plots\n",
    "# longname will be used as the titles of plots. If not specified then use shortname for titles too.\n",
    "bm = GC.benchmark(outputdir='./outputfig/',shortname='wetdep',longname='Wet Depostion')\n",
    "\n",
    "# get all tracer data from file1. tag will be used as subplot titles. GCHP output need to be filpped.\n",
    "# prefix is already set to'SPC_' by default. Just write it out for clarity. Change it when necessary.\n",
    "# time is already set to 0 by default. Change it to read other time slice.\n",
    "bm.getdata1(filename1,tag='GCHP',prefix='SPC_',flip=True,time=0)\n",
    "\n",
    "# now the tracer names and data are hold in this benchmark object.\n",
    "print(bm.tracername)\n",
    "print(len(bm.data1))\n",
    "print(np.shape(bm.data1[0])) # each item in the list is a 3D numpy array (Nlev,Nlat,Nlon)"
   ]
  },
  {
   "cell_type": "code",
   "execution_count": 3,
   "metadata": {
    "collapsed": false
   },
   "outputs": [
    {
     "name": "stdout",
     "output_type": "stream",
     "text": [
      "5\n"
     ]
    }
   ],
   "source": [
    "# With the knowledge of tracer names, we can read data from file2, matching file1's tracer sequence. \n",
    "bm.getdata2(filename2,tag='GCclassic')\n",
    "print(len(bm.data2))"
   ]
  },
  {
   "cell_type": "code",
   "execution_count": 4,
   "metadata": {
    "collapsed": false,
    "scrolled": true
   },
   "outputs": [
    {
     "name": "stdout",
     "output_type": "stream",
     "text": [
      "create  wetdep_surf.pdf\n",
      "plotting: no. 1 CH2O\n",
      "plotting: no. 2 HNO3\n",
      "plotting: no. 3 NIT\n",
      "saving one pdf page\n",
      "plotting: no. 4 NO\n",
      "plotting: no. 5 O3\n",
      "saving one pdf page\n",
      "wetdep_surf.pdf  finished\n",
      "create  wetdep_500hpa.pdf\n",
      "plotting: no. 1 CH2O\n",
      "plotting: no. 2 HNO3\n",
      "plotting: no. 3 NIT\n",
      "saving one pdf page\n",
      "plotting: no. 4 NO\n",
      "plotting: no. 5 O3\n",
      "saving one pdf page\n",
      "wetdep_500hpa.pdf  finished\n",
      "create  wetdep_180lat.pdf\n",
      "plotting: no. 1 CH2O\n",
      "plotting: no. 2 HNO3\n",
      "plotting: no. 3 NIT\n",
      "saving one pdf page\n",
      "plotting: no. 4 NO\n",
      "plotting: no. 5 O3\n",
      "saving one pdf page\n",
      "wetdep_180lat.pdf  finished\n",
      "create  wetdep_zonalmean.pdf\n",
      "plotting: no. 1 CH2O\n",
      "plotting: no. 2 HNO3\n",
      "plotting: no. 3 NIT\n",
      "saving one pdf page\n",
      "plotting: no. 4 NO\n",
      "plotting: no. 5 O3\n",
      "saving one pdf page\n",
      "wetdep_zonalmean.pdf  finished\n"
     ]
    }
   ],
   "source": [
    "# Now the bm object holds all the information needed. A quick benchmark can be done in one line.\n",
    "bm.plot_all() \n",
    "\n",
    "# Some pdfs will be generated in the outputdir specified before. "
   ]
  },
  {
   "cell_type": "markdown",
   "metadata": {
    "collapsed": true
   },
   "source": [
    "#### View the output pdfs here\n",
    "\n",
    "[wetdep_surf.pdf](outputfig/wetdep_surf.pdf)\n",
    "\n",
    "[wetdep_surf.pdf](outputfig/wetdep_500hpa.pdf)\n",
    "\n",
    "[wetdep_180lat.pdf](outputfig/wetdep_180lat.pdf)\n",
    "\n",
    "[wetdep_zonalmean.pdf](outputfig/wetdep_zonalmean.pdf)"
   ]
  },
  {
   "cell_type": "code",
   "execution_count": 5,
   "metadata": {
    "collapsed": false
   },
   "outputs": [],
   "source": [
    "# delete the benchmark object for the second example.\n",
    "del bm"
   ]
  },
  {
   "cell_type": "code",
   "execution_count": 6,
   "metadata": {
    "collapsed": false
   },
   "outputs": [
    {
     "name": "stdout",
     "output_type": "stream",
     "text": [
      "['NO', 'O3']\n",
      "2\n",
      "2\n"
     ]
    }
   ],
   "source": [
    "# Now do the benchmark with more steps, to get more control\n",
    "\n",
    "# those are the same as the previous example\n",
    "filename1='sample_data/GCHP.wetdep.regrid.20130702.nc4' # GCHP output\n",
    "filename2='sample_data/GEOSCHEM_Diagnostics_Hrly.201307020000.nc' # GC-classic NC diag\n",
    "bm = GC.benchmark(outputdir='./outputfig/',shortname='wetdep',longname='Wet Depostion')\n",
    "\n",
    "# But this time we only read two tracers, NO and O3.\n",
    "# If tracerlist not specified, then read all.\n",
    "bm.getdata1(filename1,tag='GCHP',tracerlist=['NO','O3'],\n",
    "            prefix='SPC_',flip=True,time=0)\n",
    "# Correspondingly, getdata2 only gets these two tracers, too.\n",
    "bm.getdata2(filename2,tag='GCclassic')\n",
    "\n",
    "# now we only have two tracers\n",
    "print(bm.tracername)\n",
    "print(len(bm.data1))\n",
    "print(len(bm.data2))"
   ]
  },
  {
   "cell_type": "code",
   "execution_count": 7,
   "metadata": {
    "collapsed": false
   },
   "outputs": [
    {
     "name": "stdout",
     "output_type": "stream",
     "text": [
      "create  Only_two_tracer_level8.pdf\n",
      "plotting: no. 1 NO\n",
      "plotting: no. 2 O3\n",
      "saving one pdf page\n",
      "Only_two_tracer_level8.pdf  finished\n",
      "create  Only_two_tracer_strato.pdf\n",
      "plotting: no. 1 NO\n",
      "plotting: no. 2 O3\n",
      "saving one pdf page\n",
      "Only_two_tracer_strato.pdf  finished\n"
     ]
    }
   ],
   "source": [
    "# with lower-level methods, you can specify the output filename. \n",
    "# Files will still be in the outputdir specified before, but now the shortname doesn't matter\n",
    "\n",
    "# specify a certain level\n",
    "bm.plot_layer(pdfname='Only_two_tracer_level8.pdf',lev=7,tag='the 8th level')\n",
    "\n",
    "# specify a certain range of layers to plot zonal profile \n",
    "bm.plot_zonal(pdfname='Only_two_tracer_strato.pdf',mean=True,levs=[32,71],tag='stratosphere zonal mean')\n",
    "\n",
    "# for more parameters, see help(bm.plot_layer), help(bm.plot_zonal)"
   ]
  },
  {
   "cell_type": "markdown",
   "metadata": {},
   "source": [
    "#### View the output pdfs here\n",
    "\n",
    "[Only_two_tracer_level8.pdf](outputfig/Only_two_tracer_level8.pdf)\n",
    "\n",
    "[Only_two_tracer_strato.pdf](outputfig/Only_two_tracer_strato.pdf)"
   ]
  }
 ],
 "metadata": {
  "kernelspec": {
   "display_name": "Python 3",
   "language": "python",
   "name": "python3"
  },
  "language_info": {
   "codemirror_mode": {
    "name": "ipython",
    "version": 3
   },
   "file_extension": ".py",
   "mimetype": "text/x-python",
   "name": "python",
   "nbconvert_exporter": "python",
   "pygments_lexer": "ipython3",
   "version": "3.5.2"
  }
 },
 "nbformat": 4,
 "nbformat_minor": 1
}
